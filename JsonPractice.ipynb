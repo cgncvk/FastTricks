{
 "cells": [
  {
   "cell_type": "code",
   "execution_count": 34,
   "id": "2f217d78",
   "metadata": {},
   "outputs": [],
   "source": [
    "import json"
   ]
  },
  {
   "cell_type": "code",
   "execution_count": 41,
   "id": "b120b8d5",
   "metadata": {},
   "outputs": [],
   "source": [
    "with open(\"/Users/cgncvk/Desktop/the_raffle.json\") as f:\n",
    "    data = json.load(f)"
   ]
  },
  {
   "cell_type": "code",
   "execution_count": 46,
   "id": "811ba86f",
   "metadata": {},
   "outputs": [
    {
     "name": "stdout",
     "output_type": "stream",
     "text": [
      "[2266211, 3400223, 1328183]\n"
     ]
    }
   ],
   "source": [
    "items = []\n",
    "for item in data:\n",
    "    items.append(item['attendance'])\n",
    "print(items)"
   ]
  },
  {
   "cell_type": "code",
   "execution_count": null,
   "id": "a54056c3",
   "metadata": {},
   "outputs": [],
   "source": []
  },
  {
   "cell_type": "code",
   "execution_count": null,
   "id": "54671995",
   "metadata": {},
   "outputs": [],
   "source": [
    "print(obj)"
   ]
  },
  {
   "cell_type": "code",
   "execution_count": null,
   "id": "201460db",
   "metadata": {},
   "outputs": [],
   "source": [
    "obj=json.loads(jsondata)"
   ]
  },
  {
   "cell_type": "code",
   "execution_count": null,
   "id": "a92af27f",
   "metadata": {},
   "outputs": [],
   "source": [
    "myjsonfile=open(\"/Users/cgncvk/Desktop/the_raffle.json\",\"r\")\n",
    "jsondata=myjsonfile.read()"
   ]
  }
 ],
 "metadata": {
  "kernelspec": {
   "display_name": "Python 3 (ipykernel)",
   "language": "python",
   "name": "python3"
  },
  "language_info": {
   "codemirror_mode": {
    "name": "ipython",
    "version": 3
   },
   "file_extension": ".py",
   "mimetype": "text/x-python",
   "name": "python",
   "nbconvert_exporter": "python",
   "pygments_lexer": "ipython3",
   "version": "3.8.12"
  }
 },
 "nbformat": 4,
 "nbformat_minor": 5
}
